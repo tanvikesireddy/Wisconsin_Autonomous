{
 "cells": [
  {
   "cell_type": "code",
   "execution_count": 22,
   "id": "4e1df9f2",
   "metadata": {},
   "outputs": [],
   "source": [
    "import cv2 \n",
    "import numpy as np\n",
    "import matplotlib.pyplot as plt"
   ]
  },
  {
   "cell_type": "code",
   "execution_count": 23,
   "id": "7f17e3db",
   "metadata": {},
   "outputs": [],
   "source": [
    "img = cv2.imread('red.png')"
   ]
  },
  {
   "cell_type": "code",
   "execution_count": 24,
   "id": "730690b7",
   "metadata": {},
   "outputs": [],
   "source": [
    "resized_img = cv2.resize(img, (600, 800))\n",
    "cv2.imshow('Image', resized_img) #resizing image to fit the window\n",
    "cv2.waitKey(0)\n",
    "cv2.destroyAllWindows()"
   ]
  },
  {
   "cell_type": "code",
   "execution_count": 25,
   "id": "fe4200a5",
   "metadata": {},
   "outputs": [],
   "source": [
    "lower_cone = np.array([0, 80, 120])\n",
    "upper_cone = np.array([20, 255, 255]) #finding the lower and upper bounds of color range of cone"
   ]
  },
  {
   "cell_type": "code",
   "execution_count": 26,
   "id": "900b2f7e",
   "metadata": {},
   "outputs": [],
   "source": [
    "hsv = cv2.cvtColor(resized_img, cv2.COLOR_BGR2HSV)"
   ]
  },
  {
   "cell_type": "code",
   "execution_count": 27,
   "id": "ca249fbe",
   "metadata": {},
   "outputs": [],
   "source": [
    "mask = cv2.inRange(hsv, lower_cone, upper_cone)"
   ]
  },
  {
   "cell_type": "code",
   "execution_count": 28,
   "id": "419fb760",
   "metadata": {},
   "outputs": [],
   "source": [
    "cv2.imshow('Image2', mask)\n",
    "cv2.waitKey(0)\n",
    "cv2.destroyAllWindows()"
   ]
  },
  {
   "cell_type": "code",
   "execution_count": 29,
   "id": "06fd0490",
   "metadata": {},
   "outputs": [],
   "source": [
    "img_thresh_low = cv2.inRange(hsv, np.array([0, 135, 135]), np.array([15, 255, 255]))\n",
    "img_thresh_high = cv2.inRange(hsv, np.array([159, 135, 135]), np.array([179, 255, 255]))"
   ]
  },
  {
   "cell_type": "code",
   "execution_count": 30,
   "id": "e816b634",
   "metadata": {},
   "outputs": [],
   "source": [
    "result_img = cv2.bitwise_or(img_thresh_low, img_thresh_high)"
   ]
  },
  {
   "cell_type": "code",
   "execution_count": 31,
   "id": "e420bb96",
   "metadata": {},
   "outputs": [],
   "source": [
    "cv2.imshow('Image3', result_img)\n",
    "cv2.waitKey(0)\n",
    "cv2.destroyAllWindows()"
   ]
  },
  {
   "cell_type": "code",
   "execution_count": 32,
   "id": "6149f58f",
   "metadata": {},
   "outputs": [],
   "source": [
    "contours, hierarchy = cv2.findContours(result_img, cv2.RETR_LIST, cv2.CHAIN_APPROX_SIMPLE)\n",
    "\n",
    "# Draw the contours onto the original image\n",
    "filtered_contours_img = resized_img.copy()\n",
    "line_img = np.zeros_like(filtered_contours_img)\n",
    "min_area = 20\n",
    "contour_list = []\n",
    "contour_list_x_y = []\n",
    "for contour in contours:\n",
    "    area = cv2.contourArea(contour)\n",
    "    x, y, w, h = cv2.boundingRect(contour)\n",
    "    if h/w < 3 and h/w > 1.17 and area > min_area: #using height to width ratio\n",
    "        #cv2.drawContours(filtered_contours_img, [contour], -1, (0, 255, 0), 2)   \n",
    "        contour_list.append(contour)\n",
    "        point=(x,y)\n",
    "        contour_list_x_y.append(point) #adding x and y coordinates\n",
    "        #print(contour_list)\n",
    "        \n",
    "contour_even = []\n",
    "contour_even_x_y = []\n",
    "for i in contour_list_x_y[::2]:\n",
    "    contour_even_x_y.append(i)\n",
    "contour_odd_x_y = set(contour_list_x_y) - set(contour_even_x_y)\n",
    "contour_odd_x_y = list(contour_odd_x_y) #all the coordinates of the cones to the left\n",
    "contour_even_x_y = list(contour_even_x_y)#all the coordinates of the cones to the right\n",
    "slope1 = (contour_odd_x_y[-1][1] - contour_odd_x_y[0][1])/(contour_odd_x_y[-1][0]-contour_odd_x_y[0][0])\n",
    "#finding slope of the endpoints of the left cones\n",
    "pt = (contour_odd_x_y[0][0]-1000, int(slope1 * ((contour_odd_x_y[0][0]-1000) -contour_odd_x_y[0][0] ) + contour_odd_x_y[0][1]))\n",
    "\n",
    "# calculate the endpoint of the line\n",
    "x = pt[0] + 10000\n",
    "y = int(slope1 * (x - pt[0]) + pt[1])\n",
    "endpoint = (x, y)\n",
    "\n",
    "cline=cv2.line(filtered_contours_img, pt, endpoint, (0, 0, 255), 2)\n",
    "#finding slope of the cones to the right\n",
    "slope2 = (contour_even_x_y[-1][1]-contour_even_x_y[0][1])/(contour_even_x_y[-1][0]-contour_even_x_y[0][0])\n",
    "pt1 = (contour_even_x_y[0][0]-1000, int(slope2 * ((contour_even_x_y[0][0]-1000) -contour_even_x_y[0][0] ) + contour_even_x_y[0][1]))\n",
    "\n",
    "# calculate the endpoint of the line\n",
    "x1 = pt1[0] + 10000 #extending line to 10000 pixels\n",
    "y1 = int(slope2 * (x1 - pt1[0]) + pt1[1])\n",
    "endpoint1 = (x1, y1)\n",
    "\n",
    "cline1=cv2.line(filtered_contours_img, pt1, endpoint1, (0, 0, 255), 2)"
   ]
  },
  {
   "cell_type": "code",
   "execution_count": 33,
   "id": "a876156d",
   "metadata": {},
   "outputs": [
    {
     "data": {
      "text/plain": [
       "True"
      ]
     },
     "execution_count": 33,
     "metadata": {},
     "output_type": "execute_result"
    }
   ],
   "source": [
    "#Display the result\n",
    "cv2.imshow('Contours', cline1)\n",
    "cv2.waitKey(0)\n",
    "cv2.destroyAllWindows()\n",
    "cv2.imwrite(\"answer.png\",cline1)"
   ]
  },
  {
   "cell_type": "code",
   "execution_count": null,
   "id": "ee87a044",
   "metadata": {},
   "outputs": [],
   "source": []
  }
 ],
 "metadata": {
  "kernelspec": {
   "display_name": "Python 3 (ipykernel)",
   "language": "python",
   "name": "python3"
  },
  "language_info": {
   "codemirror_mode": {
    "name": "ipython",
    "version": 3
   },
   "file_extension": ".py",
   "mimetype": "text/x-python",
   "name": "python",
   "nbconvert_exporter": "python",
   "pygments_lexer": "ipython3",
   "version": "3.11.2"
  }
 },
 "nbformat": 4,
 "nbformat_minor": 5
}
